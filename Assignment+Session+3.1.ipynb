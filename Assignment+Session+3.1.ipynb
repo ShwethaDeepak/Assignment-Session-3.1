{
 "cells": [
  {
   "cell_type": "code",
   "execution_count": 18,
   "metadata": {},
   "outputs": [
    {
     "name": "stdout",
     "output_type": "stream",
     "text": [
      "24\n"
     ]
    }
   ],
   "source": [
    " # Problem Statement : 1\n",
    "\n",
    "    def myreduce():\n",
    "    product = 1\n",
    "    list = [1, 2, 3, 4]\n",
    "    for num in list:\n",
    "        product = product * num\n",
    "    print(product)\n",
    "\n",
    "myreduce()"
   ]
  },
  {
   "cell_type": "code",
   "execution_count": 1,
   "metadata": {},
   "outputs": [
    {
     "name": "stdout",
     "output_type": "stream",
     "text": [
      "[2, 4, 6]\n"
     ]
    }
   ],
   "source": [
    " # Problem Statement : 2\n",
    "\n",
    "def my_filter():\n",
    "    alist = [1,2,3,4,5,6,7]\n",
    "    result_list = []\n",
    "    for x in alist:\n",
    "        if(x%2==0):\n",
    "            result_list.append(x)\n",
    "    print(result_list)   \n",
    "\n",
    "            \n",
    "my_filter()            \n",
    "    "
   ]
  },
  {
   "cell_type": "code",
   "execution_count": null,
   "metadata": {
    "collapsed": true
   },
   "outputs": [],
   "source": []
  }
 ],
 "metadata": {
  "kernelspec": {
   "display_name": "Python 3",
   "language": "python",
   "name": "python3"
  },
  "language_info": {
   "codemirror_mode": {
    "name": "ipython",
    "version": 3
   },
   "file_extension": ".py",
   "mimetype": "text/x-python",
   "name": "python",
   "nbconvert_exporter": "python",
   "pygments_lexer": "ipython3",
   "version": "3.6.3"
  }
 },
 "nbformat": 4,
 "nbformat_minor": 2
}
